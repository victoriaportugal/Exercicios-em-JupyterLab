{
 "cells": [
  {
   "cell_type": "code",
   "execution_count": 11,
   "id": "09b8823d-f3cb-485b-acd2-2ec04334c089",
   "metadata": {},
   "outputs": [
    {
     "name": "stdin",
     "output_type": "stream",
     "text": [
      "Insira sua primeira nota:  1.5\n",
      "Insira sua segunda nota:  3.7\n",
      "Insira sua terceira nota:  5.7\n"
     ]
    },
    {
     "name": "stdout",
     "output_type": "stream",
     "text": [
      "3.6333333333333333\n"
     ]
    }
   ],
   "source": [
    "# 1) Crie um programa que peça ao usuário para inserir três notas e calcule a média delas.\n",
    "primeiraNota = float(input(\"Insira sua primeira nota: \"))\n",
    "segundaNota = float(input(\"Insira sua segunda nota: \"))\n",
    "terceiraNota = float(input(\"Insira sua terceira nota: \"))\n",
    "\n",
    "media = ((primeiraNota + segundaNota + terceiraNota)/3)\n",
    "\n",
    "print (media)"
   ]
  },
  {
   "cell_type": "code",
   "execution_count": 13,
   "id": "f52c064e-35d7-439e-b1f0-81bc04fa79a3",
   "metadata": {},
   "outputs": [
    {
     "name": "stdin",
     "output_type": "stream",
     "text": [
      "Insira a temperatura em Celsius:  34.14\n"
     ]
    },
    {
     "name": "stdout",
     "output_type": "stream",
     "text": [
      "93.452\n"
     ]
    }
   ],
   "source": [
    " # 2) Crie um programa que converta a temperatura de Celsius para Fahrenheit.\n",
    "celsius = float(input(\"Insira a temperatura em Celsius: \"))\n",
    "fahrenheit = (celsius * 9/5) + 32\n",
    "print (fahrenheit)"
   ]
  },
  {
   "cell_type": "code",
   "execution_count": 42,
   "id": "e9c6998b-d502-4904-b43d-680aa0099ed1",
   "metadata": {},
   "outputs": [
    {
     "name": "stdin",
     "output_type": "stream",
     "text": [
      "Insira o numero para descobrir se é positivo/negativo/0:  5\n"
     ]
    },
    {
     "name": "stdout",
     "output_type": "stream",
     "text": [
      "O numero 5 é positivo\n"
     ]
    }
   ],
   "source": [
    "# 3) Crie um programa que peça ao usuário para inserir um número e verifique se ele é positivo, negativo ou zero.\n",
    "numero = int(input(\"Insira o numero para descobrir se é positivo/negativo/0: \"))\n",
    "\n",
    "if (numero > 0):\n",
    "    print(\"O numero\", numero, \"é positivo\")\n",
    "if (numero < 0):\n",
    "    print(\"O numero\", numero, \"é negativo\")\n",
    "if (numero == 0):\n",
    "    print(\"Este numero é 0\")"
   ]
  },
  {
   "cell_type": "code",
   "execution_count": 44,
   "id": "19120727-3835-4dc2-94ac-c6e2260eeb03",
   "metadata": {},
   "outputs": [
    {
     "name": "stdin",
     "output_type": "stream",
     "text": [
      "Insira uma palavra para contagem de A's:  alo\n"
     ]
    },
    {
     "name": "stdout",
     "output_type": "stream",
     "text": [
      "A palavra 'alo' contém 1 letras 'a'.\n"
     ]
    }
   ],
   "source": [
    "# 4) Crie um programa que peça ao usuário para inserir uma palavra e conte quantas letras 'a' existem nela.\n",
    "\n",
    "palavra = input(\"Insira uma palavra para contagem de A's: \").lower()\n",
    "\n",
    "quantidade_a = palavra.count('a')\n",
    "\n",
    "print(f\"A palavra '{palavra}' contém {quantidade_a} letras 'a'.\")"
   ]
  },
  {
   "cell_type": "code",
   "execution_count": 80,
   "id": "8d3df46a-0483-4c8c-89d4-f67f5e8320af",
   "metadata": {},
   "outputs": [
    {
     "name": "stdin",
     "output_type": "stream",
     "text": [
      "Insira o ano para verficiar se é bissexto ou não:  2024\n"
     ]
    },
    {
     "name": "stdout",
     "output_type": "stream",
     "text": [
      "<class 'int'>\n",
      "O ano 2024 é bissexto.\n"
     ]
    }
   ],
   "source": [
    "# 5) Crie um programa que peça ao usuário para inserir um ano e determine se ele é bissexto ou não.\n",
    "\n",
    "ano = int(input(\"Insira o ano para verficiar se é bissexto ou não: \"))\n",
    "\n",
    "#verificar tipo de variavel\n",
    "print(type(ano))\n",
    "\n",
    "if (ano % 4 == 0 and ano % 100 != 0) or (ano % 400 == 0):\n",
    "    print(\"O ano\", ano,\"é bissexto.\")\n",
    "else:\n",
    "    print(f\"O ano {ano} não é bissexto.\")\n",
    "\n"
   ]
  },
  {
   "cell_type": "code",
   "execution_count": null,
   "id": "3cd6ced9-fad0-4a85-bfb4-5bcf946ffb0a",
   "metadata": {},
   "outputs": [],
   "source": [
    "# 6) Peça ao usuário para inserir um número e exiba a tabuada desse número (de 1 a 10).\n",
    "\n",
    "numero = int(input(\"Digite um numero: \"))\n",
    "\n",
    "print(f\"\\nTabuada do {numero}:\")\n",
    "for i in range(1, 11):\n",
    "    print(f\"{numero} x {i} = {numero * i}\")"
   ]
  }
 ],
 "metadata": {
  "kernelspec": {
   "display_name": "Python 3 (ipykernel)",
   "language": "python",
   "name": "python3"
  },
  "language_info": {
   "codemirror_mode": {
    "name": "ipython",
    "version": 3
   },
   "file_extension": ".py",
   "mimetype": "text/x-python",
   "name": "python",
   "nbconvert_exporter": "python",
   "pygments_lexer": "ipython3",
   "version": "3.8.18"
  }
 },
 "nbformat": 4,
 "nbformat_minor": 5
}
