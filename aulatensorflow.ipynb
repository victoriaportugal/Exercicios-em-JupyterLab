{
 "cells": [
  {
   "cell_type": "code",
   "execution_count": 87,
   "id": "e93486f6-88ad-480e-81e2-39aea591404e",
   "metadata": {},
   "outputs": [],
   "source": [
    "import tensorflow.compat.v1 as tf"
   ]
  },
  {
   "cell_type": "code",
   "execution_count": 24,
   "id": "e4ddd497-5c85-4c39-aaec-489a85a0d800",
   "metadata": {},
   "outputs": [
    {
     "name": "stdout",
     "output_type": "stream",
     "text": [
      "b'Ola, mundo!'\n"
     ]
    }
   ],
   "source": [
    "frase = tf.constant('Ola, mundo!')\n",
    "\n",
    "#with tf.Session() as sess:\n",
    "#    rodar = sess.run(frase)\n",
    "\n",
    "\n",
    "print(tf.Session().run(frase))"
   ]
  },
  {
   "cell_type": "code",
   "execution_count": 20,
   "id": "388c9d7a-7457-4e06-8e64-8b83be26393a",
   "metadata": {},
   "outputs": [
    {
     "name": "stdout",
     "output_type": "stream",
     "text": [
      "Tensor(\"Const_2:0\", shape=(), dtype=string)\n"
     ]
    }
   ],
   "source": [
    "#variaveis sozinhas sao tensores, só recebem valores quando pedir para rodar dentro do session do tf\n",
    "print(frase)"
   ]
  },
  {
   "cell_type": "code",
   "execution_count": 22,
   "id": "e023c289-c32d-401a-adf1-88af941a199f",
   "metadata": {},
   "outputs": [
    {
     "name": "stdout",
     "output_type": "stream",
     "text": [
      "b'Ola, mundo!'\n"
     ]
    }
   ],
   "source": [
    "#caso queira imporimir com variaveis\n",
    "frase = tf.constant('Ola, mundo!')\n",
    "\n",
    "with tf.Session() as sess:\n",
    "    rodar = sess.run(frase)\n",
    "    \n",
    "print(rodar)"
   ]
  },
  {
   "cell_type": "code",
   "execution_count": 28,
   "id": "1d2ff7ff-8321-4cf3-853b-e0215d96e440",
   "metadata": {},
   "outputs": [],
   "source": [
    "#Aula grafos\n",
    "a = tf.constant(5)\n",
    "b = tf.constant(3)\n",
    "c = tf.constant(2)\n",
    "\n",
    "d = tf.multiply(a,b)\n",
    "e = tf.add(b,c)\n",
    "f = tf.subtract(d,e)\n",
    "\n",
    "sess = tf.Session()\n",
    "saida = sess.run(f)\n",
    "sess.close()"
   ]
  },
  {
   "cell_type": "code",
   "execution_count": 30,
   "id": "de932557-b38b-4e26-8c63-7fb8e4af5c4d",
   "metadata": {},
   "outputs": [
    {
     "name": "stdout",
     "output_type": "stream",
     "text": [
      "10\n"
     ]
    }
   ],
   "source": [
    "print(saida)"
   ]
  },
  {
   "cell_type": "code",
   "execution_count": 32,
   "id": "f018b94d-c4c8-4510-bffd-638bca868098",
   "metadata": {},
   "outputs": [],
   "source": [
    "#Aula tipo de dados\n",
    "a = tf.constant(2) #1x1\n",
    "b = tf.constant([3,1,5,8,6]) #1xn\n",
    "c = tf.constant([[2,0,4], [3,5,7]]) #nxn\n",
    "\n",
    "# Nos exemplos acima, a é um tensor 0-dimensional (escalar), b é 1-dimensional (vetor) e c é 2-dimensional (matriz)\n",
    "\n",
    "sess = tf.Session()\n",
    "saida = sess.run(c)\n",
    "sess.close()"
   ]
  },
  {
   "cell_type": "code",
   "execution_count": 34,
   "id": "01cc9af4-ba56-496b-8674-5b9c08bb3a43",
   "metadata": {},
   "outputs": [],
   "source": [
    "import numpy as np\n",
    "a1 = np.array(2)\n",
    "b1 = np.array([3,1,5,8,6])\n",
    "c1 = np.array([[2,4,0], [3,5,7]])"
   ]
  },
  {
   "cell_type": "code",
   "execution_count": 36,
   "id": "c9571881-6e2f-402d-96f7-e6ca93333ee5",
   "metadata": {},
   "outputs": [
    {
     "name": "stdout",
     "output_type": "stream",
     "text": [
      "(2, 3)\n"
     ]
    }
   ],
   "source": [
    "print(c.shape)"
   ]
  },
  {
   "cell_type": "code",
   "execution_count": 38,
   "id": "142b148b-0f53-4a2e-a91d-9512d3ea9815",
   "metadata": {},
   "outputs": [
    {
     "name": "stdout",
     "output_type": "stream",
     "text": [
      "(2, 3)\n"
     ]
    }
   ],
   "source": [
    "print(c1.shape)"
   ]
  },
  {
   "cell_type": "code",
   "execution_count": 44,
   "id": "21b26aa8-1fd4-4aaa-b452-f1fdb5c6462e",
   "metadata": {},
   "outputs": [],
   "source": [
    "const = tf.constant(4, dtype=tf.float64)"
   ]
  },
  {
   "cell_type": "code",
   "execution_count": 42,
   "id": "ca84eff5-a1b5-4495-9ac6-8caedf63ca8e",
   "metadata": {},
   "outputs": [
    {
     "name": "stdout",
     "output_type": "stream",
     "text": [
      "Tensor(\"Const_11:0\", shape=(), dtype=float32)\n"
     ]
    }
   ],
   "source": [
    "print(const)"
   ]
  },
  {
   "cell_type": "code",
   "execution_count": 46,
   "id": "75ef103c-9948-4b6b-9477-a1d5307cb5a0",
   "metadata": {},
   "outputs": [],
   "source": [
    "#Aula matrizes\n",
    "\n",
    "A = tf.constant([[1,2,3],[4,5,6]])\n",
    "B = tf.constant([[0,0],[1,0],[0,1]])"
   ]
  },
  {
   "cell_type": "code",
   "execution_count": 52,
   "id": "22bc6928-7a2e-4bf7-906b-c786c2b90662",
   "metadata": {},
   "outputs": [
    {
     "name": "stdout",
     "output_type": "stream",
     "text": [
      "[[0 0]\n",
      " [1 0]\n",
      " [0 1]]\n"
     ]
    }
   ],
   "source": [
    "print(tf.Session().run(B))"
   ]
  },
  {
   "cell_type": "code",
   "execution_count": 54,
   "id": "23e097f7-d9fd-4cae-9001-030e0065d40e",
   "metadata": {},
   "outputs": [],
   "source": [
    "resultado = tf.matmul(A,B)"
   ]
  },
  {
   "cell_type": "code",
   "execution_count": 56,
   "id": "3256ebde-7f16-4a03-8d39-a9d2dfeb7c7a",
   "metadata": {},
   "outputs": [
    {
     "name": "stdout",
     "output_type": "stream",
     "text": [
      "[[2 3]\n",
      " [5 6]]\n"
     ]
    }
   ],
   "source": [
    "print(tf.Session().run(resultado))"
   ]
  },
  {
   "cell_type": "code",
   "execution_count": 62,
   "id": "9a1401cf-3d85-4f6d-a96d-29d7cc2772ff",
   "metadata": {},
   "outputs": [],
   "source": [
    "x = tf.constant([0,1,0])\n",
    "#Seria impossivel calcular o X com A pois ele nao possui o tanto de coluna necessaria! como resolver isso:\n",
    "# A funcao expand expande eixo vertical\n",
    "x = tf.expand_dims(x,1)"
   ]
  },
  {
   "cell_type": "code",
   "execution_count": 64,
   "id": "8f9920d0-8691-48c8-80ee-cba687fa1d57",
   "metadata": {},
   "outputs": [
    {
     "name": "stdout",
     "output_type": "stream",
     "text": [
      "(3, 1)\n"
     ]
    }
   ],
   "source": [
    "print(x.shape)"
   ]
  },
  {
   "cell_type": "code",
   "execution_count": 68,
   "id": "802e0de2-55ac-4197-a555-ab2bdbe84e18",
   "metadata": {},
   "outputs": [],
   "source": [
    "resultado2 = tf.matmul(A,x)"
   ]
  },
  {
   "cell_type": "code",
   "execution_count": 70,
   "id": "2b3513a3-b2aa-432c-bb03-aa716adff412",
   "metadata": {},
   "outputs": [
    {
     "name": "stdout",
     "output_type": "stream",
     "text": [
      "[[2]\n",
      " [5]]\n"
     ]
    }
   ],
   "source": [
    "print(tf.Session().run(resultado2))"
   ]
  },
  {
   "cell_type": "code",
   "execution_count": 74,
   "id": "6df22f37-db59-45e6-be0c-478a954dfdfd",
   "metadata": {},
   "outputs": [],
   "source": [
    "#Inverter linhas pelas colunas\n",
    "transposta = tf.transpose(A)"
   ]
  },
  {
   "cell_type": "code",
   "execution_count": 78,
   "id": "cc3c9d5b-d460-4dd2-9806-e21432be2f09",
   "metadata": {},
   "outputs": [
    {
     "name": "stdout",
     "output_type": "stream",
     "text": [
      "[[1 2 3]\n",
      " [4 5 6]]\n"
     ]
    }
   ],
   "source": [
    "print(tf.Session().run(A))"
   ]
  },
  {
   "cell_type": "code",
   "execution_count": 80,
   "id": "43ae4c15-7861-433a-91a7-ab42890ab788",
   "metadata": {},
   "outputs": [
    {
     "name": "stdout",
     "output_type": "stream",
     "text": [
      "[[1 4]\n",
      " [2 5]\n",
      " [3 6]]\n"
     ]
    }
   ],
   "source": [
    "print(tf.Session().run(transposta))"
   ]
  },
  {
   "cell_type": "code",
   "execution_count": 89,
   "id": "af6ce840-bdf5-4c6c-827d-2a5c575b4e8a",
   "metadata": {},
   "outputs": [],
   "source": [
    "#Aula variavel\n",
    "variavel = tf.Variable(2)"
   ]
  },
  {
   "cell_type": "code",
   "execution_count": 95,
   "id": "3f07fae4-e65e-4e17-a1f2-5d9ffc60d059",
   "metadata": {},
   "outputs": [
    {
     "name": "stdout",
     "output_type": "stream",
     "text": [
      "2\n"
     ]
    }
   ],
   "source": [
    "#para rodar variavel precisamos iniciar elas, diferente de constantes\n",
    "init = tf.global_variables_initializer()\n",
    "with tf.Session() as sess:\n",
    "    sess.run(init)\n",
    "    rodar = sess.run(variavel)\n",
    "print(rodar)"
   ]
  },
  {
   "cell_type": "code",
   "execution_count": 97,
   "id": "24601273-74e8-4b1f-b4a5-f3c57282cbe2",
   "metadata": {},
   "outputs": [],
   "source": [
    "matriz = tf.random_normal((3,5),0,1) #(shape, média, desvio_padrao)"
   ]
  },
  {
   "cell_type": "code",
   "execution_count": 101,
   "id": "73e6be95-add2-4b79-a9cc-5ccb29cde038",
   "metadata": {},
   "outputs": [],
   "source": [
    "variavel2 = tf.Variable(matriz)"
   ]
  },
  {
   "cell_type": "code",
   "execution_count": 103,
   "id": "dd5189c9-cca5-48f3-bd3c-a5fcb5ff1bdf",
   "metadata": {},
   "outputs": [
    {
     "name": "stdout",
     "output_type": "stream",
     "text": [
      "Tensor(\"random_normal:0\", shape=(3, 5), dtype=float32)\n"
     ]
    }
   ],
   "source": [
    "print(matriz)"
   ]
  },
  {
   "cell_type": "code",
   "execution_count": 105,
   "id": "e87609d7-68d6-43f7-84f9-df2b62770394",
   "metadata": {},
   "outputs": [
    {
     "name": "stdout",
     "output_type": "stream",
     "text": [
      "<tf.Variable 'Variable_3:0' shape=(3, 5) dtype=float32_ref>\n"
     ]
    }
   ],
   "source": [
    "print(variavel2)"
   ]
  },
  {
   "cell_type": "code",
   "execution_count": 119,
   "id": "3405ce5c-53ae-465d-a118-5d84bfdacc62",
   "metadata": {},
   "outputs": [
    {
     "name": "stdout",
     "output_type": "stream",
     "text": [
      "[[-1.5682727  -1.4439967  -0.1337449  -0.9026132  -1.9650942 ]\n",
      " [ 0.8756103   0.816173    0.49905542 -1.0546645  -0.372192  ]\n",
      " [ 0.10473226  0.7127403   1.8746604  -0.2172141   0.40051785]]\n"
     ]
    }
   ],
   "source": [
    "init = tf.global_variables_initializer()\n",
    "with tf.Session() as sess:\n",
    "    sess.run(init)\n",
    "    rodar = sess.run(variavel2)\n",
    "print(rodar)"
   ]
  },
  {
   "cell_type": "code",
   "execution_count": 175,
   "id": "7e147c8f-f675-422b-916e-f3d14953a09f",
   "metadata": {},
   "outputs": [
    {
     "data": {
      "text/plain": [
       "<tf.Operation 'PrintV2_8' type=PrintV2>"
      ]
     },
     "execution_count": 175,
     "metadata": {},
     "output_type": "execute_result"
    }
   ],
   "source": [
    "#aula placeholders\n",
    "\n",
    "import tensorflow as tf\n",
    "import numpy as np\n",
    "\n",
    "dados_x = np.random.randn(4,8)   # cria matriz de 4 linhas e 8 colunas com números aleatórios\n",
    "\n",
    "dados_w = np.random.randn(8,2)   # cria matriz de 8 linhas e 2 colunas com números aleatórios\n",
    "\n",
    "b = tf.random.normal((4,2),0,1, tf.float64)   # cria matriz (tensor) de 4 linhas e 2 colunas com números aleatórios\n",
    "\n",
    "operacao = tf.matmul(dados_x, dados_w) + b\n",
    "maximo = tf.math.reduce_max(operacao) # encontra o maior valor da matriz operacao\n",
    "\n",
    "tf.print(operacao)\n",
    "tf.print(maximo)"
   ]
  },
  {
   "cell_type": "code",
   "execution_count": 155,
   "id": "cd93b8ad-f00e-489d-ad1a-6994d8e3cc1e",
   "metadata": {},
   "outputs": [
    {
     "name": "stdout",
     "output_type": "stream",
     "text": [
      "[2.8121097, 6.233085, 4.3498735, 3.710597, 1.8206812]\n"
     ]
    }
   ],
   "source": [
    "with tf.compat.v1.Session() as sess:\n",
    "    \n",
    "    x1 = np.random.randn(4,8)\n",
    "    w1 = np.random.randn(8,2)\n",
    "    \n",
    "    x2 = np.random.randn(4,8)\n",
    "    w2 = np.random.randn(8,2)\n",
    "    \n",
    "    x3 = np.random.randn(4,8)\n",
    "    w3 = np.random.randn(8,2)\n",
    "    \n",
    "    x4 = np.random.randn(4,8)\n",
    "    w4 = np.random.randn(8,2)\n",
    "    \n",
    "    x5 = np.random.randn(4,8)\n",
    "    w5 = np.random.randn(8,2)\n",
    "    \n",
    "    lista_x = [x1, x2, x3, x4, x5]\n",
    "    lista_w = [w1, w2, w3, w4, w5]\n",
    "    lista_saida = []\n",
    "    \n",
    "    b = tf.compat.v1.random_normal((4,2),0,1)\n",
    "    \n",
    "    x = tf.compat.v1.placeholder(tf.float32, shape=(4,8))\n",
    "    w = tf.compat.v1.placeholder(tf.float32, shape=(8,2))\n",
    "    \n",
    "    operacao = tf.matmul(x, w) + b\n",
    "\n",
    "    maximo = tf.reduce_max(operacao)\n",
    "    \n",
    "    for i in range(5):\n",
    "        saida = sess.run(maximo, feed_dict={x: lista_x[i], w: lista_w[i]})\n",
    "        lista_saida.append(saida)\n",
    "    \n",
    "    print(lista_saida)\n",
    "\n"
   ]
  },
  {
   "cell_type": "code",
   "execution_count": 173,
   "id": "e9aaa406-9c05-4ad1-81e7-e6fafcac715d",
   "metadata": {},
   "outputs": [
    {
     "name": "stdout",
     "output_type": "stream",
     "text": [
      "5.0\n"
     ]
    }
   ],
   "source": [
    "#Aula TensorBoard\n",
    "#Criar o primeiro grafo\n",
    "a = tf.constant(2, dtype=tf.float32, name='tensor_a')\n",
    "b = tf.constant(3, dtype=tf.float32, name='tensor_b')\n",
    "c = tf.add(a, b)\n",
    "\n",
    "with tf.compat.v1.Session() as sess:\n",
    "    writer = tf.compat.v1.summary.FileWriter('C:/Users/victo/Documents/estudoTF/grafo1', sess.graph)\n",
    "    saida = sess.run(c)\n",
    "print(saida)"
   ]
  },
  {
   "cell_type": "code",
   "execution_count": null,
   "id": "e7ef423b-7387-4743-94cd-0dd9e24f51e0",
   "metadata": {},
   "outputs": [],
   "source": []
  },
  {
   "cell_type": "code",
   "execution_count": null,
   "id": "41e5eafc-c755-4f9f-b93e-bdcb21656a96",
   "metadata": {},
   "outputs": [],
   "source": []
  }
 ],
 "metadata": {
  "kernelspec": {
   "display_name": "Python 3 (ipykernel)",
   "language": "python",
   "name": "python3"
  },
  "language_info": {
   "codemirror_mode": {
    "name": "ipython",
    "version": 3
   },
   "file_extension": ".py",
   "mimetype": "text/x-python",
   "name": "python",
   "nbconvert_exporter": "python",
   "pygments_lexer": "ipython3",
   "version": "3.8.18"
  }
 },
 "nbformat": 4,
 "nbformat_minor": 5
}
