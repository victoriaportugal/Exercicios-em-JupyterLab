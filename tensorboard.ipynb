{
 "cells": [
  {
   "cell_type": "code",
   "execution_count": 4,
   "id": "dec0a247-95f0-4d5c-a941-5bba971f0fa6",
   "metadata": {},
   "outputs": [
    {
     "name": "stdout",
     "output_type": "stream",
     "text": [
      "10\n"
     ]
    }
   ],
   "source": [
    "#Aula TensorBoard\n",
    "#Criar o primeiro grafo\n",
    "import tensorflow as tf\n",
    "\n",
    "# Desativar execução ansiosa para usar sessões (compatível com TensorFlow 2.x)\n",
    "tf.compat.v1.disable_eager_execution()\n",
    "\n",
    "a = tf.constant(5)\n",
    "b = tf.constant(3)\n",
    "c = tf.constant(2)\n",
    "\n",
    "d = tf.multiply(a,b)\n",
    "e = tf.add(b,c)\n",
    "f = tf.subtract(d,e)\n",
    "\n",
    "with tf.compat.v1.Session() as sess:\n",
    "    writer = tf.compat.v1.summary.FileWriter('C:/Users/victo/Documents/estudoTF/grafo2', sess.graph)\n",
    "    saida_f = sess.run(f)\n",
    "print(saida_f)"
   ]
  },
  {
   "cell_type": "code",
   "execution_count": null,
   "id": "0b5982e1-2633-4f1c-8f15-b107e34778bc",
   "metadata": {},
   "outputs": [],
   "source": []
  }
 ],
 "metadata": {
  "kernelspec": {
   "display_name": "Python 3 (ipykernel)",
   "language": "python",
   "name": "python3"
  },
  "language_info": {
   "codemirror_mode": {
    "name": "ipython",
    "version": 3
   },
   "file_extension": ".py",
   "mimetype": "text/x-python",
   "name": "python",
   "nbconvert_exporter": "python",
   "pygments_lexer": "ipython3",
   "version": "3.8.18"
  }
 },
 "nbformat": 4,
 "nbformat_minor": 5
}
