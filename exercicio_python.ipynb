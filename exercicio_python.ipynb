{
 "cells": [
  {
   "cell_type": "code",
   "execution_count": 59,
   "id": "67398e71-06f1-4220-9687-be497f56be57",
   "metadata": {},
   "outputs": [
    {
     "name": "stdout",
     "output_type": "stream",
     "text": [
      "A amplitude da lista é: 7\n"
     ]
    }
   ],
   "source": [
    "def amplitude(lista):\n",
    "    \n",
    "    valor_amplitude = max(lista) - min(lista)\n",
    "    print(f\"A amplitude da lista é: {valor_amplitude}\")\n",
    "\n",
    "numeros = [3, 7, 2, 9, 4]\n",
    "amplitude(numeros)\n",
    "\n"
   ]
  },
  {
   "cell_type": "code",
   "execution_count": 74,
   "id": "a4817c11-eef9-43bf-b2d9-a94e6c0b946f",
   "metadata": {},
   "outputs": [
    {
     "name": "stdout",
     "output_type": "stream",
     "text": [
      "p\n",
      "y\n",
      "t\n",
      "h\n",
      "o\n",
      "n\n"
     ]
    }
   ],
   "source": [
    "def imprime(texto):\n",
    "    for n in range(0, len(texto)):\n",
    "        print(texto[n])\n",
    "\n",
    "imprime(\"python\")"
   ]
  },
  {
   "cell_type": "code",
   "execution_count": 125,
   "id": "c4914ea8-532a-4d9b-9db5-74123328ac4f",
   "metadata": {},
   "outputs": [
    {
     "name": "stdout",
     "output_type": "stream",
     "text": [
      "Valor da carga é de R$ 50,00\n"
     ]
    }
   ],
   "source": [
    "peso = 10\n",
    "if peso <= 10:\n",
    "\tprint(\"Valor da carga é de R$ 50,00\")\n",
    "elif peso >= 11 and peso <=20:\n",
    "\tprint(\"Valor da carga é de R$ 80,00\")\n",
    "else:\n",
    "\tprint(\"O transporte não é aceito\")\n"
   ]
  },
  {
   "cell_type": "code",
   "execution_count": null,
   "id": "027e83a8-07ae-4a6c-8bc6-5249812f3137",
   "metadata": {},
   "outputs": [],
   "source": []
  }
 ],
 "metadata": {
  "kernelspec": {
   "display_name": "Python 3 (ipykernel)",
   "language": "python",
   "name": "python3"
  },
  "language_info": {
   "codemirror_mode": {
    "name": "ipython",
    "version": 3
   },
   "file_extension": ".py",
   "mimetype": "text/x-python",
   "name": "python",
   "nbconvert_exporter": "python",
   "pygments_lexer": "ipython3",
   "version": "3.8.18"
  }
 },
 "nbformat": 4,
 "nbformat_minor": 5
}
